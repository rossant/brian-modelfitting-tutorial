{
 "metadata": {
  "name": ""
 },
 "nbformat": 3,
 "nbformat_minor": 0,
 "worksheets": [
  {
   "cells": [
    {
     "cell_type": "markdown",
     "metadata": {
      "slideshow": {
       "slide_type": "slide"
      }
     },
     "source": [
      "Brian Model Fitting Tutorial\n",
      "============================\n",
      "### CNS 2013\n",
      "#### Cyrille Rossant"
     ]
    },
    {
     "cell_type": "markdown",
     "metadata": {
      "slideshow": {
       "slide_type": "slide"
      }
     },
     "source": [
      "## Spiking neuron models can accurately reproduce the response to a somatically injected current\n",
      "\n",
      "![](slides_files/gerstner.PNG)"
     ]
    },
    {
     "cell_type": "markdown",
     "metadata": {
      "slideshow": {
       "slide_type": "slide"
      }
     },
     "source": [
      "## How to estimate the parameters?\n",
      "\n",
      "  * Model-specific optimization algorithms: ...\n",
      "  * Generic optimization with Brian"
     ]
    },
    {
     "cell_type": "markdown",
     "metadata": {
      "slideshow": {
       "slide_type": "slide"
      }
     },
     "source": [
      "## The BRIAN model fitting toolbox\n",
      "\n",
      "  * Give the equations in mathematical form as usual\n",
      "  * Specify the parameters to optimize\n",
      "  * Specify the injected current and the output spikes\n",
      "  * Run the procedure and get the optimized parameters\n",
      "  \n",
      "<div align=\"center\"><img src=\"slides_files/fitting.PNG\" width=\"500\" /></div>"
     ]
    },
    {
     "cell_type": "markdown",
     "metadata": {
      "slideshow": {
       "slide_type": "slide"
      }
     },
     "source": [
      "How it works\n",
      "============\n",
      "\n",
      "  * The model is simulated with Brian: one neuron = one parameter set\n",
      "  * The best parameters are found with a stochastic global optimization algorithm (e.g. CMA-ES)\n",
      "  \n",
      "<div align=\"center\"><img src=\"slides_files/optimization.PNG\" width=\"800\"  /></div>"
     ]
    },
    {
     "cell_type": "markdown",
     "metadata": {
      "slideshow": {
       "slide_type": "slide"
      }
     },
     "source": [
      "Getting started\n",
      "===============\n",
      "\n",
      "  * You need Brian (it includes directly the model fitting library).\n",
      "  * You also need Playdoh (distributed optimization) ([github.com/rossant/playdoh](https://github.com/rossant/playdoh)):\n",
      "  \n",
      "        pip install playdoh"
     ]
    },
    {
     "cell_type": "markdown",
     "metadata": {
      "slideshow": {
       "slide_type": "slide"
      }
     },
     "source": [
      "## Toy example\n",
      "\n",
      "  * Let's first simulate a simple integrate-and-fire neuron responding to an injected fluctuating current."
     ]
    },
    {
     "cell_type": "code",
     "collapsed": false,
     "input": [
      "%pylab inline"
     ],
     "language": "python",
     "metadata": {},
     "outputs": [
      {
       "output_type": "stream",
       "stream": "stdout",
       "text": [
        "\n",
        "Welcome to pylab, a matplotlib-based Python environment [backend: module://IPython.kernel.zmq.pylab.backend_inline].\n",
        "For more information, type 'help(pylab)'.\n"
       ]
      }
     ],
     "prompt_number": 1
    },
    {
     "cell_type": "code",
     "collapsed": false,
     "input": [
      "from brian import *\n",
      "from brian.library.random_processes import *\n",
      "R, tau = 1., 5 * ms\n",
      "eqs = Equations('''dV/dt=(R*I-V)/tau : 1''')\n",
      "eqs += OrnsteinUhlenbeck('I', \n",
      "        mu=.5, sigma=.5, tau=5 * ms)"
     ],
     "language": "python",
     "metadata": {
      "slideshow": {
       "slide_type": "-"
      }
     },
     "outputs": [
      {
       "output_type": "stream",
       "stream": "stderr",
       "text": [
        "D:\\SVN\\Brian\\brian\\utils\\sparse_patch\\__init__.py:39: UserWarning: Couldn't find matching sparse matrix patch for scipy version 0.12.0, but in most cases this shouldn't be a problem.\n",
        "  warnings.warn(\"Couldn't find matching sparse matrix patch for scipy version %s, but in most cases this shouldn't be a problem.\" % scipy.__version__)\n"
       ]
      }
     ],
     "prompt_number": 4
    },
    {
     "cell_type": "code",
     "collapsed": false,
     "input": [
      "G = NeuronGroup(N=1, model=eqs, reset=0., threshold=1., refractory=5 * ms)\n",
      "Mspikes = SpikeMonitor(G)\n",
      "Vstate = StateMonitor(G, 'V', record=True)\n",
      "Istate = StateMonitor(G, 'I', record=True)\n",
      "reinit_default_clock()\n",
      "run(1 * second)"
     ],
     "language": "python",
     "metadata": {
      "slideshow": {
       "slide_type": "subslide"
      }
     },
     "outputs": [
      {
       "ename": "TypeError",
       "evalue": "Clock is ambiguous. Please specify it explicitly.",
       "output_type": "pyerr",
       "traceback": [
        "\u001b[1;31m---------------------------------------------------------------------------\u001b[0m\n\u001b[1;31mTypeError\u001b[0m                                 Traceback (most recent call last)",
        "\u001b[1;32m<ipython-input-34-774c25b56bc9>\u001b[0m in \u001b[0;36m<module>\u001b[1;34m()\u001b[0m\n\u001b[1;32m----> 1\u001b[1;33m \u001b[0mG\u001b[0m \u001b[1;33m=\u001b[0m \u001b[0mNeuronGroup\u001b[0m\u001b[1;33m(\u001b[0m\u001b[0mN\u001b[0m\u001b[1;33m=\u001b[0m\u001b[1;36m1\u001b[0m\u001b[1;33m,\u001b[0m \u001b[0mmodel\u001b[0m\u001b[1;33m=\u001b[0m\u001b[0meqs\u001b[0m\u001b[1;33m,\u001b[0m \u001b[0mreset\u001b[0m\u001b[1;33m=\u001b[0m\u001b[1;36m0.\u001b[0m\u001b[1;33m,\u001b[0m \u001b[0mthreshold\u001b[0m\u001b[1;33m=\u001b[0m\u001b[1;36m1.\u001b[0m\u001b[1;33m,\u001b[0m \u001b[0mrefractory\u001b[0m\u001b[1;33m=\u001b[0m\u001b[1;36m5\u001b[0m \u001b[1;33m*\u001b[0m \u001b[0mms\u001b[0m\u001b[1;33m)\u001b[0m\u001b[1;33m\u001b[0m\u001b[0m\n\u001b[0m\u001b[0;32m      2\u001b[0m \u001b[0mMspikes\u001b[0m \u001b[1;33m=\u001b[0m \u001b[0mSpikeMonitor\u001b[0m\u001b[1;33m(\u001b[0m\u001b[0mG\u001b[0m\u001b[1;33m)\u001b[0m\u001b[1;33m\u001b[0m\u001b[0m\n\u001b[0;32m      3\u001b[0m \u001b[0mVstate\u001b[0m \u001b[1;33m=\u001b[0m \u001b[0mStateMonitor\u001b[0m\u001b[1;33m(\u001b[0m\u001b[0mG\u001b[0m\u001b[1;33m,\u001b[0m \u001b[1;34m'V'\u001b[0m\u001b[1;33m,\u001b[0m \u001b[0mrecord\u001b[0m\u001b[1;33m=\u001b[0m\u001b[0mTrue\u001b[0m\u001b[1;33m)\u001b[0m\u001b[1;33m\u001b[0m\u001b[0m\n\u001b[0;32m      4\u001b[0m \u001b[0mIstate\u001b[0m \u001b[1;33m=\u001b[0m \u001b[0mStateMonitor\u001b[0m\u001b[1;33m(\u001b[0m\u001b[0mG\u001b[0m\u001b[1;33m,\u001b[0m \u001b[1;34m'I'\u001b[0m\u001b[1;33m,\u001b[0m \u001b[0mrecord\u001b[0m\u001b[1;33m=\u001b[0m\u001b[0mTrue\u001b[0m\u001b[1;33m)\u001b[0m\u001b[1;33m\u001b[0m\u001b[0m\n\u001b[0;32m      5\u001b[0m \u001b[0mreinit_default_clock\u001b[0m\u001b[1;33m(\u001b[0m\u001b[1;33m)\u001b[0m\u001b[1;33m\u001b[0m\u001b[0m\n",
        "\u001b[1;32mD:\\SVN\\Brian\\brian\\fundamentalunits.py\u001b[0m in \u001b[0;36mnew_f\u001b[1;34m(*args, **kwds)\u001b[0m\n\u001b[0;32m   1406\u001b[0m                                                      \u001b[0mstr\u001b[0m\u001b[1;33m(\u001b[0m\u001b[0mau\u001b[0m\u001b[1;33m[\u001b[0m\u001b[0mk\u001b[0m\u001b[1;33m]\u001b[0m\u001b[1;33m)\u001b[0m\u001b[1;33m,\u001b[0m\u001b[1;33m\u001b[0m\u001b[0m\n\u001b[0;32m   1407\u001b[0m                                                      get_dimensions(newkeyset[k]))\n\u001b[1;32m-> 1408\u001b[1;33m             \u001b[0mresult\u001b[0m \u001b[1;33m=\u001b[0m \u001b[0mf\u001b[0m\u001b[1;33m(\u001b[0m\u001b[1;33m*\u001b[0m\u001b[0margs\u001b[0m\u001b[1;33m,\u001b[0m \u001b[1;33m**\u001b[0m\u001b[0mkwds\u001b[0m\u001b[1;33m)\u001b[0m\u001b[1;33m\u001b[0m\u001b[0m\n\u001b[0m\u001b[0;32m   1409\u001b[0m             \u001b[1;32mif\u001b[0m \u001b[1;34m\"result\"\u001b[0m \u001b[1;32min\u001b[0m \u001b[0mau\u001b[0m\u001b[1;33m:\u001b[0m\u001b[1;33m\u001b[0m\u001b[0m\n\u001b[0;32m   1410\u001b[0m                 \u001b[1;32massert\u001b[0m \u001b[0mhave_same_dimensions\u001b[0m\u001b[1;33m(\u001b[0m\u001b[0mresult\u001b[0m\u001b[1;33m,\u001b[0m \u001b[0mau\u001b[0m\u001b[1;33m[\u001b[0m\u001b[1;34m\"result\"\u001b[0m\u001b[1;33m]\u001b[0m\u001b[1;33m)\u001b[0m\u001b[1;33m,\u001b[0m\u001b[0;31m \u001b[0m\u001b[0;31m\\\u001b[0m\u001b[1;33m\u001b[0m\u001b[0m\n",
        "\u001b[1;32mD:\\SVN\\Brian\\brian\\neurongroup.py\u001b[0m in \u001b[0;36m__init__\u001b[1;34m(self, N, model, threshold, reset, init, refractory, level, clock, order, implicit, unit_checking, max_delay, compile, freeze, method, max_refractory)\u001b[0m\n\u001b[0;32m    279\u001b[0m \u001b[1;33m\u001b[0m\u001b[0m\n\u001b[0;32m    280\u001b[0m         \u001b[1;31m# Clock\u001b[0m\u001b[1;33m\u001b[0m\u001b[1;33m\u001b[0m\u001b[0m\n\u001b[1;32m--> 281\u001b[1;33m         \u001b[0mclock\u001b[0m \u001b[1;33m=\u001b[0m \u001b[0mguess_clock\u001b[0m\u001b[1;33m(\u001b[0m\u001b[0mclock\u001b[0m\u001b[1;33m)\u001b[0m\u001b[1;31m#not needed with protocol checking\u001b[0m\u001b[1;33m\u001b[0m\u001b[0m\n\u001b[0m\u001b[0;32m    282\u001b[0m         \u001b[0mself\u001b[0m\u001b[1;33m.\u001b[0m\u001b[0mclock\u001b[0m \u001b[1;33m=\u001b[0m \u001b[0mclock\u001b[0m\u001b[1;33m\u001b[0m\u001b[0m\n\u001b[0;32m    283\u001b[0m \u001b[1;33m\u001b[0m\u001b[0m\n",
        "\u001b[1;32mD:\\SVN\\Brian\\brian\\clock.py\u001b[0m in \u001b[0;36mguess_clock\u001b[1;34m(clock)\u001b[0m\n\u001b[0;32m    349\u001b[0m     \u001b[1;32mif\u001b[0m \u001b[0mlen\u001b[0m\u001b[1;33m(\u001b[0m\u001b[0mclocks\u001b[0m\u001b[1;33m)\u001b[0m \u001b[1;33m>\u001b[0m \u001b[1;36m1\u001b[0m\u001b[1;33m:\u001b[0m \u001b[1;31m# several clocks: ambiguous\u001b[0m\u001b[1;33m\u001b[0m\u001b[0m\n\u001b[0;32m    350\u001b[0m         \u001b[1;31m# What type of error?\u001b[0m\u001b[1;33m\u001b[0m\u001b[1;33m\u001b[0m\u001b[0m\n\u001b[1;32m--> 351\u001b[1;33m         \u001b[1;32mraise\u001b[0m \u001b[0mTypeError\u001b[0m\u001b[1;33m(\u001b[0m\u001b[1;34m\"Clock is ambiguous. Please specify it explicitly.\"\u001b[0m\u001b[1;33m)\u001b[0m\u001b[1;33m\u001b[0m\u001b[0m\n\u001b[0m\u001b[0;32m    352\u001b[0m     \u001b[1;32mif\u001b[0m \u001b[0mlen\u001b[0m\u001b[1;33m(\u001b[0m\u001b[0mclocks\u001b[0m\u001b[1;33m)\u001b[0m \u001b[1;33m==\u001b[0m \u001b[1;36m1\u001b[0m\u001b[1;33m:\u001b[0m\u001b[1;33m\u001b[0m\u001b[0m\n\u001b[0;32m    353\u001b[0m         \u001b[1;32mreturn\u001b[0m \u001b[0mclocks\u001b[0m\u001b[1;33m[\u001b[0m\u001b[1;36m0\u001b[0m\u001b[1;33m]\u001b[0m\u001b[1;33m\u001b[0m\u001b[0m\n",
        "\u001b[1;31mTypeError\u001b[0m: Clock is ambiguous. Please specify it explicitly."
       ]
      }
     ],
     "prompt_number": 34
    },
    {
     "cell_type": "code",
     "collapsed": false,
     "input": [
      "figure(figsize=(10,4))\n",
      "V, I, spikes = Vstate[0], Istate[0], Mspikes.spiketimes[0]\n",
      "plot(Vstate.times, V, '-k');\n",
      "vlines(spikes, 1, 3);"
     ],
     "language": "python",
     "metadata": {
      "slideshow": {
       "slide_type": "subslide"
      }
     },
     "outputs": []
    },
    {
     "cell_type": "markdown",
     "metadata": {
      "slideshow": {
       "slide_type": "slide"
      }
     },
     "source": [
      "  * Now, let's fit the same model on the simulated data."
     ]
    },
    {
     "cell_type": "code",
     "collapsed": false,
     "input": [
      "from brian.library.modelfitting import *\n",
      "equations = Equations('''\n",
      "    dV/dt=(R*I-V)/tau : 1\n",
      "    I : 1\n",
      "    R : 1\n",
      "    tau : second\n",
      "''')"
     ],
     "language": "python",
     "metadata": {
      "slideshow": {
       "slide_type": "-"
      }
     },
     "outputs": []
    },
    {
     "cell_type": "code",
     "collapsed": false,
     "input": [
      "results = modelfitting(model=equations,\n",
      "    reset=0, threshold=1,\n",
      "    data=spikes, input=I, dt=defaultclock.dt, \n",
      "    popsize=250, maxiter=10, cpu=1, \n",
      "    R=[0., 10.], tau=[2*ms, 50*ms],\n",
      "    refractory=[0*ms, 10*ms])"
     ],
     "language": "python",
     "metadata": {},
     "outputs": []
    },
    {
     "cell_type": "code",
     "collapsed": false,
     "input": [
      "print_table(results)"
     ],
     "language": "python",
     "metadata": {
      "slideshow": {
       "slide_type": "subslide"
      }
     },
     "outputs": []
    },
    {
     "cell_type": "markdown",
     "metadata": {
      "slideshow": {
       "slide_type": "slide"
      }
     },
     "source": [
      "Let's compare the actual and fitted traces and spikes."
     ]
    },
    {
     "cell_type": "code",
     "collapsed": false,
     "input": [
      "G = NeuronGroup(N=1, model=eqs, reset=0.,\n",
      "    threshold=1.,\n",
      "    refractory=results[0]['refractory'] * second)\n",
      "G.I = TimedArray(I, dt=defaultclock.dt)\n",
      "G.R, G.tau = results[0]['R'], results[0]['tau']\n",
      "Mspikes = SpikeMonitor(G)\n",
      "Vstate = StateMonitor(G, 'V', record=True)\n",
      "Istate = StateMonitor(G, 'I', record=True)\n",
      "reinit_default_clock()\n",
      "net = Network(G, Mspikes, Vstate, Istate)\n",
      "net.run(1 * second)"
     ],
     "language": "python",
     "metadata": {},
     "outputs": []
    },
    {
     "cell_type": "code",
     "collapsed": false,
     "input": [
      "figure(figsize=(10,4))\n",
      "V_fit, spikes_fit = Vstate[0], Mspikes.spiketimes[0]\n",
      "plot(Vstate.times, V, 'k');\n",
      "vlines(spikes, 1, 3, color='k');\n",
      "plot(Vstate.times, V_fit, '-r');\n",
      "vlines(spikes_fit, 1, 3, color='r');"
     ],
     "language": "python",
     "metadata": {
      "slideshow": {
       "slide_type": "subslide"
      }
     },
     "outputs": []
    },
    {
     "cell_type": "markdown",
     "metadata": {
      "slideshow": {
       "slide_type": "slide"
      }
     },
     "source": [
      "## Fitting an IF neuron to real data"
     ]
    },
    {
     "cell_type": "markdown",
     "metadata": {
      "slideshow": {
       "slide_type": "slide"
      }
     },
     "source": [
      "  * Let's get the data from the Brian repository.\n",
      "  * These come from patch-clamp recordings in neurons from mouse auditory cortex, performed by Anna K. Magnusson.\n",
      "  "
     ]
    },
    {
     "cell_type": "code",
     "collapsed": false,
     "input": [
      "import urllib2\n",
      "path = 'https://neuralensemble.org/svn/brian/trunk/examples/modelfitting/'\n",
      "# These files were saved with `numpy.savetxt`.\n",
      "I = np.fromstring(\n",
      "    urllib2.urlopen(path + 'current.txt').read(),\n",
      "    sep='\\n')\n",
      "spikes = np.fromstring(\n",
      "    urllib2.urlopen(path + 'spikes.txt').read(),\n",
      "    sep='\\n')"
     ],
     "language": "python",
     "metadata": {},
     "outputs": [],
     "prompt_number": 2
    },
    {
     "cell_type": "markdown",
     "metadata": {
      "slideshow": {
       "slide_type": "subslide"
      }
     },
     "source": [
      "What does the data look like?\n"
     ]
    },
    {
     "cell_type": "code",
     "collapsed": false,
     "input": [
      "t = arange(I.size) * defaultclock.dt\n",
      "figure(figsize=(10,4));\n",
      "subplot(211);\n",
      "plot(t, I, '-b');\n",
      "subplot(212);\n",
      "hlines([0], 0, 1);\n",
      "vlines(spikes, 0, 1);\n",
      "ylim(-.5, 1.5);"
     ],
     "language": "python",
     "metadata": {
      "slideshow": {
       "slide_type": "-"
      }
     },
     "outputs": [
      {
       "metadata": {},
       "output_type": "display_data",
       "png": "[encoded data removed]",
       "text": [
        "<matplotlib.figure.Figure at 0x130d3320>"
       ]
      }
     ],
     "prompt_number": 5
    },
    {
     "cell_type": "markdown",
     "metadata": {
      "slideshow": {
       "slide_type": "subslide"
      }
     },
     "source": [
      "Let's fit an IF neuron with an adaptive threshold.\n"
     ]
    },
    {
     "cell_type": "code",
     "collapsed": false,
     "input": [
      "from brian.library.modelfitting import *\n",
      "eqs = Equations('''\n",
      "    dV/dt=(R*I-V)/tau : volt\n",
      "    dVt/dt=(a*V-Vt)/taut : volt\n",
      "    I : amp\n",
      "    R : ohm\n",
      "    a : 1\n",
      "    alpha : volt\n",
      "    tau : second\n",
      "    taut : second\n",
      "''')\n",
      "threshold = '''V>1+Vt'''\n",
      "reset = '''V = 0\n",
      "Vt += alpha'''"
     ],
     "language": "python",
     "metadata": {
      "slideshow": {
       "slide_type": "-"
      }
     },
     "outputs": [],
     "prompt_number": 6
    },
    {
     "cell_type": "code",
     "collapsed": false,
     "input": [
      "results = modelfitting(model=eqs,\n",
      "    reset=reset, threshold=threshold,\n",
      "    data=spikes, input=I, dt=defaultclock.dt, \n",
      "    popsize=500, maxiter=5, cpu=4, \n",
      "    R=[10*Mohm, 10*Mohm, 10000.*Mohm, 10000.*Mohm], \n",
      "    a=[0., 1.], alpha=[0., 20.*mV],\n",
      "    tau=[2*ms, 50*ms], taut=[20*ms, 200*ms])"
     ],
     "language": "python",
     "metadata": {
      "slideshow": {
       "slide_type": "subslide"
      }
     },
     "outputs": [],
     "prompt_number": 7
    },
    {
     "cell_type": "code",
     "collapsed": false,
     "input": [
      "print_table(results)"
     ],
     "language": "python",
     "metadata": {},
     "outputs": [
      {
       "output_type": "stream",
       "stream": "stdout",
       "text": [
        "RESULTS\n",
        "--------------------------------\n",
        "R                  3.143e+9      \n",
        "a                  0.376         \n",
        "alpha             11.083e-3      \n",
        "tau               18.232e-3      \n",
        "taut              44.570e-3      \n",
        "best fit           0.812         \n",
        "\n"
       ]
      }
     ],
     "prompt_number": 8
    },
    {
     "cell_type": "code",
     "collapsed": false,
     "input": [
      "G = NeuronGroup(N=1, model=eqs, reset=reset,\n",
      "    threshold=threshold,)\n",
      "G.I = TimedArray(I, dt=defaultclock.dt)\n",
      "for key, val in results[0].best_pos.iteritems():\n",
      "    setattr(G, key, val)\n",
      "Mspikes = SpikeMonitor(G)\n",
      "Vstate = StateMonitor(G, 'V', record=True)\n",
      "Vtstate = StateMonitor(G, 'Vt', record=True)\n",
      "reinit_default_clock()\n",
      "net = Network(G, Mspikes, Vstate, Vtstate)\n",
      "net.run(1 * second)"
     ],
     "language": "python",
     "metadata": {
      "slideshow": {
       "slide_type": "subslide"
      }
     },
     "outputs": [
      {
       "output_type": "stream",
       "stream": "stderr",
       "text": [
        "brian.equations   : WARNING  Equation variable I also exists in the namespace\n"
       ]
      },
      {
       "output_type": "stream",
       "stream": "stderr",
       "text": [
        "WARNING:brian.equations:Equation variable I also exists in the namespace\n"
       ]
      },
      {
       "output_type": "stream",
       "stream": "stderr",
       "text": [
        "brian.equations   : WARNING  Equation variable R also exists in the namespace\n"
       ]
      },
      {
       "output_type": "stream",
       "stream": "stderr",
       "text": [
        "WARNING:brian.equations:Equation variable R also exists in the namespace\n"
       ]
      },
      {
       "output_type": "stream",
       "stream": "stderr",
       "text": [
        "brian.equations   : WARNING  Equation variable tau also exists in the namespace\n"
       ]
      },
      {
       "output_type": "stream",
       "stream": "stderr",
       "text": [
        "WARNING:brian.equations:Equation variable tau also exists in the namespace\n"
       ]
      }
     ],
     "prompt_number": 9
    },
    {
     "cell_type": "code",
     "collapsed": false,
     "input": [
      "figure(figsize=(10,4))\n",
      "V_fit, Vt_fit, spikes_fit = Vstate[0], Vtstate[0], Mspikes.spiketimes[0]\n",
      "plot(Vstate.times, V_fit, 'r');\n",
      "plot(Vstate.times, 1+Vt_fit, 'g');\n",
      "vlines(spikes, 1+Vt_fit[(spikes * 1000).astype(int)], 3, color='k');\n",
      "vlines(spikes_fit, 1+Vt_fit[(spikes_fit * 1000).astype(int)], 3, color='r');"
     ],
     "language": "python",
     "metadata": {
      "slideshow": {
       "slide_type": "subslide"
      }
     },
     "outputs": [
      {
       "metadata": {},
       "output_type": "display_data",
       "png": "[encoded data removed]",
       "text": [
        "<matplotlib.figure.Figure at 0x137a9048>"
       ]
      }
     ],
     "prompt_number": 20
    },
    {
     "cell_type": "markdown",
     "metadata": {
      "slideshow": {
       "slide_type": "slide"
      }
     },
     "source": [
      "## Reducing a biophysical model to a spiking model"
     ]
    },
    {
     "cell_type": "code",
     "collapsed": false,
     "input": [],
     "language": "python",
     "metadata": {},
     "outputs": []
    },
    {
     "cell_type": "markdown",
     "metadata": {
      "slideshow": {
       "slide_type": "slide"
      }
     },
     "source": [
      "## References\n",
      "  \n",
      "  * User guide: [briansimulator.org/docs/modelfitting.html](http://briansimulator.org/docs/modelfitting.html)\n",
      "  * Reference guide: [briansimulator.org/docs/reference-modelfitting.html](http://briansimulator.org/docs/reference-modelfitting.html)\n",
      "  * Publications:\n",
      "      * [Rossant et al. 2010, Frontiers in Neuroinformatics](http://www.ncbi.nlm.nih.gov/pmc/articles/PMC2835507/)\n",
      "      * [Rossant et al. 2011, Frontiers in Neuroscience](http://www.ncbi.nlm.nih.gov/pmc/articles/PMC3051271/)\n",
      "      "
     ]
    },
    {
     "cell_type": "code",
     "collapsed": false,
     "input": [],
     "language": "python",
     "metadata": {},
     "outputs": []
    }
   ],
   "metadata": {}
  }
 ]
}