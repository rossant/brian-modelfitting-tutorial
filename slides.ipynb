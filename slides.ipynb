{
 "metadata": {
  "name": ""
 },
 "nbformat": 3,
 "nbformat_minor": 0,
 "worksheets": [
  {
   "cells": [
    {
     "cell_type": "markdown",
     "metadata": {
      "slideshow": {
       "slide_type": "slide"
      }
     },
     "source": [
      "Brian Model Fitting Tutorial\n",
      "============================\n",
      "### CNS 2013\n",
      "#### Cyrille Rossant"
     ]
    },
    {
     "cell_type": "markdown",
     "metadata": {
      "slideshow": {
       "slide_type": "slide"
      }
     },
     "source": [
      "## Spiking neuron models can accurately reproduce the response to a somatically injected current\n",
      "\n",
      "![](slides_files/gerstner.PNG)"
     ]
    },
    {
     "cell_type": "markdown",
     "metadata": {
      "slideshow": {
       "slide_type": "slide"
      }
     },
     "source": [
      "## How to estimate the parameters?\n",
      "\n",
      "  * Model-specific optimization algorithms: ...\n",
      "  * Generic optimization with Brian"
     ]
    },
    {
     "cell_type": "markdown",
     "metadata": {
      "slideshow": {
       "slide_type": "slide"
      }
     },
     "source": [
      "## The BRIAN model fitting toolbox\n",
      "\n",
      "  * Give the equations in mathematical form as usual\n",
      "  * Specify the parameters to optimize\n",
      "  * Specify the injected current and the output spikes\n",
      "  * Run the procedure and get the optimized parameters\n",
      "  \n",
      "<div align=\"center\"><img src=\"slides_files/fitting.PNG\" width=\"500\" /></div>"
     ]
    },
    {
     "cell_type": "markdown",
     "metadata": {
      "slideshow": {
       "slide_type": "slide"
      }
     },
     "source": [
      "How it works\n",
      "============\n",
      "\n",
      "  * The model is simulated with Brian: one neuron = one parameter set\n",
      "  * The best parameters are found with a stochastic global optimization algorithm (e.g. CMA-ES)\n",
      "  \n",
      "<div align=\"center\"><img src=\"slides_files/optimization.PNG\" width=\"800\"  /></div>"
     ]
    },
    {
     "cell_type": "markdown",
     "metadata": {
      "slideshow": {
       "slide_type": "slide"
      }
     },
     "source": [
      "Getting started\n",
      "===============\n",
      "\n",
      "  * You need Brian (it includes directly the model fitting library).\n",
      "  * You also need Playdoh (distributed optimization) ([github.com/rossant/playdoh](https://github.com/rossant/playdoh)):\n",
      "  \n",
      "        pip install playdoh"
     ]
    },
    {
     "cell_type": "markdown",
     "metadata": {
      "slideshow": {
       "slide_type": "slide"
      }
     },
     "source": [
      "## Toy example\n",
      "\n",
      "  * Let's first simulate a simple integrate-and-fire neuron responding to an injected fluctuating current."
     ]
    },
    {
     "cell_type": "code",
     "collapsed": false,
     "input": [
      "%pylab inline"
     ],
     "language": "python",
     "metadata": {},
     "outputs": []
    },
    {
     "cell_type": "code",
     "collapsed": false,
     "input": [
      "from brian import *\n",
      "from brian.library.random_processes import *\n",
      "R, tau = 1., 5 * ms\n",
      "eqs = Equations('''dV/dt=(R*I-V)/tau : 1''')\n",
      "eqs += OrnsteinUhlenbeck('I', \n",
      "        mu=.5, sigma=.5, tau=5 * ms)"
     ],
     "language": "python",
     "metadata": {
      "slideshow": {
       "slide_type": "-"
      }
     },
     "outputs": []
    },
    {
     "cell_type": "code",
     "collapsed": false,
     "input": [
      "G = NeuronGroup(N=1, model=eqs, reset=0., threshold=1., refractory=5 * ms)\n",
      "Mspikes = SpikeMonitor(G)\n",
      "Vstate = StateMonitor(G, 'V', record=True)\n",
      "Istate = StateMonitor(G, 'I', record=True)\n",
      "reinit_default_clock()\n",
      "run(1 * second)"
     ],
     "language": "python",
     "metadata": {
      "slideshow": {
       "slide_type": "subslide"
      }
     },
     "outputs": []
    },
    {
     "cell_type": "code",
     "collapsed": false,
     "input": [
      "figure(figsize=(10,4))\n",
      "V, I, spikes = Vstate[0], Istate[0], Mspikes.spiketimes[0]\n",
      "plot(Vstate.times, V, '-k');\n",
      "vlines(spikes, 1, 3);"
     ],
     "language": "python",
     "metadata": {
      "slideshow": {
       "slide_type": "subslide"
      }
     },
     "outputs": []
    },
    {
     "cell_type": "markdown",
     "metadata": {
      "slideshow": {
       "slide_type": "slide"
      }
     },
     "source": [
      "  * Now, let's fit the same model on the simulated data."
     ]
    },
    {
     "cell_type": "code",
     "collapsed": false,
     "input": [
      "from brian.library.modelfitting import *\n",
      "equations = Equations('''\n",
      "    dV/dt=(R*I-V)/tau : 1\n",
      "    I : 1\n",
      "    R : 1\n",
      "    tau : second\n",
      "''')"
     ],
     "language": "python",
     "metadata": {
      "slideshow": {
       "slide_type": "-"
      }
     },
     "outputs": []
    },
    {
     "cell_type": "code",
     "collapsed": false,
     "input": [
      "results = modelfitting(model=equations,\n",
      "    reset=0, threshold=1,\n",
      "    data=spikes, input=I, dt=defaultclock.dt, \n",
      "    popsize=250, maxiter=10, cpu=1, \n",
      "    R=[0., 10.], tau=[2*ms, 50*ms],\n",
      "    refractory=[0*ms, 10*ms])"
     ],
     "language": "python",
     "metadata": {},
     "outputs": []
    },
    {
     "cell_type": "code",
     "collapsed": false,
     "input": [
      "print_table(results)"
     ],
     "language": "python",
     "metadata": {
      "slideshow": {
       "slide_type": "subslide"
      }
     },
     "outputs": []
    },
    {
     "cell_type": "markdown",
     "metadata": {
      "slideshow": {
       "slide_type": "slide"
      }
     },
     "source": [
      "Let's compare the actual and fitted traces and spikes."
     ]
    },
    {
     "cell_type": "code",
     "collapsed": false,
     "input": [
      "G = NeuronGroup(N=1, model=eqs, reset=0.,\n",
      "    threshold=1.,\n",
      "    refractory=results[0]['refractory'] * second)\n",
      "G.I = TimedArray(I, dt=defaultclock.dt)\n",
      "G.R, G.tau = results[0]['R'], results[0]['tau']\n",
      "Mspikes = SpikeMonitor(G)\n",
      "Vstate = StateMonitor(G, 'V', record=True)\n",
      "Istate = StateMonitor(G, 'I', record=True)\n",
      "reinit_default_clock()\n",
      "net = Network(G, Mspikes, Vstate, Istate)\n",
      "net.run(1 * second)"
     ],
     "language": "python",
     "metadata": {},
     "outputs": []
    },
    {
     "cell_type": "code",
     "collapsed": false,
     "input": [
      "figure(figsize=(10,4))\n",
      "V_fit, spikes_fit = Vstate[0], Mspikes.spiketimes[0]\n",
      "plot(Vstate.times, V, 'k');\n",
      "vlines(spikes, 1, 3, color='k');\n",
      "plot(Vstate.times, V_fit, '-r');\n",
      "vlines(spikes_fit, 1, 3, color='r');"
     ],
     "language": "python",
     "metadata": {
      "slideshow": {
       "slide_type": "subslide"
      }
     },
     "outputs": []
    },
    {
     "cell_type": "markdown",
     "metadata": {
      "slideshow": {
       "slide_type": "slide"
      }
     },
     "source": [
      "## Fitting an IF neuron to real data"
     ]
    },
    {
     "cell_type": "markdown",
     "metadata": {
      "slideshow": {
       "slide_type": "slide"
      }
     },
     "source": [
      "  * Let's get the data from the Brian repository.\n",
      "  * These come from patch-clamp recordings in neurons from mouse auditory cortex, performed by Anna K. Magnusson.\n",
      "  "
     ]
    },
    {
     "cell_type": "code",
     "collapsed": false,
     "input": [
      "import urllib2\n",
      "path = 'https://neuralensemble.org/svn/brian/trunk/examples/modelfitting/'\n",
      "# These files were saved with `numpy.savetxt`.\n",
      "I = np.fromstring(\n",
      "    urllib2.urlopen(path + 'current.txt').read(),\n",
      "    sep='\\n')\n",
      "spikes = np.fromstring(\n",
      "    urllib2.urlopen(path + 'spikes.txt').read(),\n",
      "    sep='\\n')"
     ],
     "language": "python",
     "metadata": {},
     "outputs": []
    },
    {
     "cell_type": "markdown",
     "metadata": {
      "slideshow": {
       "slide_type": "subslide"
      }
     },
     "source": [
      "What does the data look like?\n"
     ]
    },
    {
     "cell_type": "code",
     "collapsed": false,
     "input": [
      "t = arange(I.size) * defaultclock.dt\n",
      "figure(figsize=(10,4));\n",
      "subplot(211);\n",
      "plot(t, I, '-b');\n",
      "subplot(212);\n",
      "hlines([0], 0, 1);\n",
      "vlines(spikes, 0, 1);\n",
      "ylim(-.5, 1.5);"
     ],
     "language": "python",
     "metadata": {
      "slideshow": {
       "slide_type": "-"
      }
     },
     "outputs": []
    },
    {
     "cell_type": "markdown",
     "metadata": {
      "slideshow": {
       "slide_type": "subslide"
      }
     },
     "source": [
      "Let's fit an IF neuron with an adaptive threshold.\n"
     ]
    },
    {
     "cell_type": "code",
     "collapsed": false,
     "input": [
      "from brian.library.modelfitting import *\n",
      "eqs = Equations('''\n",
      "    dV/dt=(R*I-V)/tau : volt\n",
      "    dVt/dt=(a*V-Vt)/taut : volt\n",
      "    I : amp\n",
      "    R : ohm\n",
      "    a : 1\n",
      "    alpha : volt\n",
      "    tau : second\n",
      "    taut : second\n",
      "''')\n",
      "threshold = '''V>1+Vt'''\n",
      "reset = '''V = 0\n",
      "Vt += alpha'''"
     ],
     "language": "python",
     "metadata": {
      "slideshow": {
       "slide_type": "-"
      }
     },
     "outputs": []
    },
    {
     "cell_type": "code",
     "collapsed": false,
     "input": [
      "results = modelfitting(model=eqs,\n",
      "    reset=reset, threshold=threshold,\n",
      "    data=spikes, input=I, dt=defaultclock.dt, \n",
      "    popsize=500, maxiter=5, cpu=4, \n",
      "    R=[10*Mohm, 10*Mohm, 10000.*Mohm, 10000.*Mohm], \n",
      "    a=[0., 1.], alpha=[0., 20.*mV],\n",
      "    tau=[2*ms, 50*ms], taut=[20*ms, 200*ms])"
     ],
     "language": "python",
     "metadata": {
      "slideshow": {
       "slide_type": "subslide"
      }
     },
     "outputs": []
    },
    {
     "cell_type": "markdown",
     "metadata": {
      "slideshow": {
       "slide_type": "subslide"
      }
     },
     "source": [
      "Here are the results."
     ]
    },
    {
     "cell_type": "code",
     "collapsed": false,
     "input": [
      "print_table(results)"
     ],
     "language": "python",
     "metadata": {
      "slideshow": {
       "slide_type": "-"
      }
     },
     "outputs": []
    },
    {
     "cell_type": "markdown",
     "metadata": {
      "slideshow": {
       "slide_type": "slide"
      }
     },
     "source": [
      "Let's simulate the model with the fitted parameters."
     ]
    },
    {
     "cell_type": "code",
     "collapsed": false,
     "input": [
      "G = NeuronGroup(N=1, model=eqs, reset=reset,\n",
      "    threshold=threshold,)\n",
      "G.I = TimedArray(I, dt=defaultclock.dt)\n",
      "for key, val in results[0].best_pos.iteritems():\n",
      "    setattr(G, key, val)\n",
      "Mspikes = SpikeMonitor(G)\n",
      "Vstate = StateMonitor(G, 'V', record=True)\n",
      "Vtstate = StateMonitor(G, 'Vt', record=True)\n",
      "reinit_default_clock()\n",
      "net = Network(G, Mspikes, Vstate, Vtstate)\n",
      "net.run(1 * second)"
     ],
     "language": "python",
     "metadata": {
      "slideshow": {
       "slide_type": "-"
      }
     },
     "outputs": []
    },
    {
     "cell_type": "code",
     "collapsed": false,
     "input": [
      "figure(figsize=(10,4))\n",
      "V_fit, Vt_fit, spikes_fit = Vstate[0], Vtstate[0], Mspikes.spiketimes[0]\n",
      "plot(Vstate.times, V_fit, 'r');\n",
      "plot(Vstate.times, 1 + Vt_fit, 'g');\n",
      "vlines(spikes, 1 + Vt_fit[(spikes * 1000).astype(int)], 3, color='k');\n",
      "vlines(spikes_fit, 1 + Vt_fit[(spikes_fit * 1000).astype(int)], 3, color='r');"
     ],
     "language": "python",
     "metadata": {
      "slideshow": {
       "slide_type": "subslide"
      }
     },
     "outputs": []
    },
    {
     "cell_type": "markdown",
     "metadata": {
      "slideshow": {
       "slide_type": "slide"
      }
     },
     "source": [
      "## Reducing a biophysical model to a spiking model"
     ]
    },
    {
     "cell_type": "code",
     "collapsed": false,
     "input": [],
     "language": "python",
     "metadata": {},
     "outputs": []
    },
    {
     "cell_type": "markdown",
     "metadata": {
      "slideshow": {
       "slide_type": "slide"
      }
     },
     "source": [
      "## References\n",
      "  \n",
      "  * User guide: [briansimulator.org/docs/modelfitting.html](http://briansimulator.org/docs/modelfitting.html)\n",
      "  * Reference guide: [briansimulator.org/docs/reference-modelfitting.html](http://briansimulator.org/docs/reference-modelfitting.html)\n",
      "  * Publications:\n",
      "      * [Rossant et al. 2010, Frontiers in Neuroinformatics](http://www.ncbi.nlm.nih.gov/pmc/articles/PMC2835507/)\n",
      "      * [Rossant et al. 2011, Frontiers in Neuroscience](http://www.ncbi.nlm.nih.gov/pmc/articles/PMC3051271/)\n",
      "      "
     ]
    },
    {
     "cell_type": "code",
     "collapsed": false,
     "input": [],
     "language": "python",
     "metadata": {},
     "outputs": []
    }
   ],
   "metadata": {}
  }
 ]
}