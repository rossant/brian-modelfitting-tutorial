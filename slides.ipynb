{
 "metadata": {
  "name": "slides"
 },
 "nbformat": 3,
 "nbformat_minor": 0,
 "worksheets": [
  {
   "cells": [
    {
     "cell_type": "markdown",
     "metadata": {
      "slideshow": {
       "slide_type": "slide"
      }
     },
     "source": [
      "Brian Model Fitting Tutorial\n",
      "============================"
     ]
    },
    {
     "cell_type": "code",
     "collapsed": false,
     "input": [],
     "language": "python",
     "metadata": {
      "slideshow": {
       "slide_type": "slide"
      }
     },
     "outputs": []
    },
    {
     "cell_type": "code",
     "collapsed": false,
     "input": [
      "from brian import *\n",
      "from brian.library.modelfitting import *"
     ],
     "language": "python",
     "metadata": {
      "slideshow": {
       "slide_type": "slide"
      }
     },
     "outputs": [],
     "prompt_number": 4
    },
    {
     "cell_type": "code",
     "collapsed": false,
     "input": [
      "equations = Equations('''\n",
      "    dV/dt=(R*I-V)/tau : 1\n",
      "    I : 1\n",
      "    R : 1\n",
      "    tau : second\n",
      "''')\n",
      "input = loadtxt('current.txt')\n",
      "spikes = loadtxt('spikes.txt')\n",
      "results = modelfitting( model = equations,\n",
      "                        reset = 0,\n",
      "                        threshold = 1,\n",
      "                        data = spikes,\n",
      "                        input = input,\n",
      "                        dt = .1*ms,\n",
      "                        popsize = 1000,\n",
      "                        maxiter = 3,\n",
      "                        delta = 4*ms,\n",
      "                        R = [1.0e9, 9.0e9],\n",
      "                        tau = [10*ms, 40*ms],\n",
      "                        refractory = [0*ms, 10*ms])\n",
      "print_table(results)"
     ],
     "language": "python",
     "metadata": {
      "slideshow": {
       "slide_type": "slide"
      }
     },
     "outputs": [
      {
       "output_type": "stream",
       "stream": "stdout",
       "text": [
        "RESULTS\n",
        "--------------------------------\n",
        "R                  2.380e+9      \n",
        "refractory         5.307e-3      \n",
        "tau               17.058e-3      \n",
        "best fit           0.875         \n",
        "\n"
       ]
      }
     ],
     "prompt_number": 5
    }
   ],
   "metadata": {}
  }
 ]
}